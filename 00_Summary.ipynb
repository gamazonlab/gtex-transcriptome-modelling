{
 "cells": [
  {
   "cell_type": "code",
   "execution_count": 2,
   "metadata": {},
   "outputs": [],
   "source": [
    "import pandas as pd \n",
    "from pandas import Series\n",
    "import numpy as np\n",
    "import gc\n",
    "\n",
    "import matplotlib.pyplot as plt\n",
    "\n",
    "\n",
    "files = { 'Adipose_Subcutaneous' : 'data/Adipose_Subcutaneous.v8.normalized_expression.bed',\n",
    "'Adipose_Visceral_Omentum' : 'data/Adipose_Visceral_Omentum.v8.normalized_expression.bed',\n",
    "'Adrenal_Gland' : 'data/Adrenal_Gland.v8.normalized_expression.bed',\n",
    "'Artery_Aorta' : 'data/Artery_Aorta.v8.normalized_expression.bed',\n",
    "'Artery_Coronary' : 'data/Artery_Coronary.v8.normalized_expression.bed',\n",
    "'Artery_Tibial' : 'data/Artery_Tibial.v8.normalized_expression.bed',\n",
    "'Brain_Amygdala' : 'data/Brain_Amygdala.v8.normalized_expression.bed',\n",
    "'Brain_Anterior_cingulate' : 'data/Brain_Anterior_cingulate_cortex_BA24.v8.normalized_expression.bed',\n",
    "'Brain_Caudate' : 'data/Brain_Caudate_basal_ganglia.v8.normalized_expression.bed',\n",
    "'Brain_Cerebellar' : 'data/Brain_Cerebellar_Hemisphere.v8.normalized_expression.bed',\n",
    "'Brain_Cerebellum' : 'data/Brain_Cerebellum.v8.normalized_expression.bed',\n",
    "'Brain_Cortex' : 'data/Brain_Cortex.v8.normalized_expression.bed',\n",
    "'Brain_Frontal_Cortex' : 'data/Brain_Frontal_Cortex_BA9.v8.normalized_expression.bed',\n",
    "'Brain_Hippocampus' : 'data/Brain_Hippocampus.v8.normalized_expression.bed',\n",
    "'Brain_Hypothalamus' : 'data/Brain_Hypothalamus.v8.normalized_expression.bed',\n",
    "'Brain_Nucleus' : 'data/Brain_Nucleus_accumbens_basal_ganglia.v8.normalized_expression.bed',\n",
    "'Brain_Putamen' : 'data/Brain_Putamen_basal_ganglia.v8.normalized_expression.bed',\n",
    "'Brain_Spinal_cord' : 'data/Brain_Spinal_cord_cervical_c-1.v8.normalized_expression.bed',\n",
    "'Brain_Substantia_nigra' : 'data/Brain_Substantia_nigra.v8.normalized_expression.bed',\n",
    "'Breast_Mammary_Tissue' : 'data/Breast_Mammary_Tissue.v8.normalized_expression.bed',\n",
    "'Cells_Cultured' : 'data/Cells_Cultured_fibroblasts.v8.normalized_expression.bed',\n",
    "'Cells_EBV' : 'data/Cells_EBV-transformed_lymphocytes.v8.normalized_expression.bed',\n",
    "'Colon_Sigmoid' : 'data/Colon_Sigmoid.v8.normalized_expression.bed',\n",
    "'Colon_Transverse' : 'data/Colon_Transverse.v8.normalized_expression.bed',\n",
    "'Esophagus_Gastro' : 'data/Esophagus_Gastroesophageal_Junction.v8.normalized_expression.bed',\n",
    "'Esophagus_Mucosa' : 'data/Esophagus_Mucosa.v8.normalized_expression.bed',\n",
    "'Esophagus_Muscularis' : 'data/Esophagus_Muscularis.v8.normalized_expression.bed',\n",
    "'Heart_Atrial' : 'data/Heart_Atrial_Appendage.v8.normalized_expression.bed',\n",
    "'Heart_L_Vent' : 'data/Heart_Left_Ventricle.v8.normalized_expression.bed',\n",
    "'Kidney_Cortex' : 'data/Kidney_Cortex.v8.normalized_expression.bed',\n",
    "'Liver' : 'data/Liver.v8.normalized_expression.bed',\n",
    "'Lung' : 'data/Lung.v8.normalized_expression.bed',\n",
    "'Minor_Salivary' : 'data/Minor_Salivary_Gland.v8.normalized_expression.bed',\n",
    "'Muscle_Skeletal' : 'data/Muscle_Skeletal.v8.normalized_expression.bed',\n",
    "'Nerve_Tibial' : 'data/Nerve_Tibial.v8.normalized_expression.bed',\n",
    "'Ovary' : 'data/Ovary.v8.normalized_expression.bed',\n",
    "'Pancreas' : 'data/Pancreas.v8.normalized_expression.bed',\n",
    "'Pituitary' : 'data/Pituitary.v8.normalized_expression.bed',\n",
    "'Prostate' : 'data/Prostate.v8.normalized_expression.bed',\n",
    "'Skin_Not_Sun_Epsd' : 'data/Skin_Not_Sun_Exposed_Suprapubic.v8.normalized_expression.bed',\n",
    "'Skin_Sun_Epsd' : 'data/Skin_Sun_Exposed_Lower_leg.v8.normalized_expression.bed',\n",
    "'Small_Intestine' : 'data/Small_Intestine_Terminal_Ileum.v8.normalized_expression.bed',\n",
    "'Spleen' : 'data/Spleen.v8.normalized_expression.bed',\n",
    "'Stomach' : 'data/Stomach.v8.normalized_expression.bed',\n",
    "'Testis' : 'data/Testis.v8.normalized_expression.bed',\n",
    "'Thyroid' : 'data/Thyroid.v8.normalized_expression.bed',\n",
    "'Uterus' : 'data/Uterus.v8.normalized_expression.bed',\n",
    "'Vagina' : 'data/Vagina.v8.normalized_expression.bed',\n",
    "'Whole_Blood' : 'data/Whole_Blood.v8.normalized_expression.bed'}"
   ]
  },
  {
   "cell_type": "markdown",
   "metadata": {},
   "source": [
    "# General View with all genes/people\n",
    "## General number of people and genes in each tissue"
   ]
  },
  {
   "cell_type": "code",
   "execution_count": 34,
   "metadata": {},
   "outputs": [
    {
     "name": "stdout",
     "output_type": "stream",
     "text": [
      "Total number of tissues: 49\n"
     ]
    }
   ],
   "source": [
    "print(\"Total number of tissues: \" + str(len(files)))"
   ]
  },
  {
   "cell_type": "code",
   "execution_count": 22,
   "metadata": {
    "scrolled": true
   },
   "outputs": [
    {
     "name": "stdout",
     "output_type": "stream",
     "text": [
      "\n",
      "#############################\n",
      "## Adipose_Subcutaneous\n",
      "581 people\n",
      "24665 genes\n",
      "\n",
      "#############################\n",
      "## Adipose_Visceral_Omentum\n",
      "469 people\n",
      "24724 genes\n",
      "\n",
      "#############################\n",
      "## Adrenal_Gland\n",
      "233 people\n",
      "23820 genes\n",
      "\n",
      "#############################\n",
      "## Artery_Aorta\n",
      "387 people\n",
      "23959 genes\n",
      "\n",
      "#############################\n",
      "## Artery_Coronary\n",
      "213 people\n",
      "24529 genes\n",
      "\n",
      "#############################\n",
      "## Artery_Tibial\n",
      "584 people\n",
      "23304 genes\n",
      "\n",
      "#############################\n",
      "## Brain_Amygdala\n",
      "129 people\n",
      "24069 genes\n",
      "\n",
      "#############################\n",
      "## Brain_Anterior_cingulate\n",
      "147 people\n",
      "24342 genes\n",
      "\n",
      "#############################\n",
      "## Brain_Caudate\n",
      "194 people\n",
      "24718 genes\n",
      "\n",
      "#############################\n",
      "## Brain_Cerebellar\n",
      "175 people\n",
      "25144 genes\n",
      "\n",
      "#############################\n",
      "## Brain_Cerebellum\n",
      "209 people\n",
      "25461 genes\n",
      "\n",
      "#############################\n",
      "## Brain_Cortex\n",
      "205 people\n",
      "24849 genes\n",
      "\n",
      "#############################\n",
      "## Brain_Frontal_Cortex\n",
      "175 people\n",
      "24676 genes\n",
      "\n",
      "#############################\n",
      "## Brain_Hippocampus\n",
      "165 people\n",
      "24420 genes\n",
      "\n",
      "#############################\n",
      "## Brain_Hypothalamus\n",
      "170 people\n",
      "25096 genes\n",
      "\n",
      "#############################\n",
      "## Brain_Nucleus\n",
      "202 people\n",
      "24890 genes\n",
      "\n",
      "#############################\n",
      "## Brain_Putamen\n",
      "170 people\n",
      "23804 genes\n",
      "\n",
      "#############################\n",
      "## Brain_Spinal_cord\n",
      "126 people\n",
      "24669 genes\n",
      "\n",
      "#############################\n",
      "## Brain_Substantia_nigra\n",
      "114 people\n",
      "24044 genes\n",
      "\n",
      "#############################\n",
      "## Breast_Mammary_Tissue\n",
      "396 people\n",
      "25849 genes\n",
      "\n",
      "#############################\n",
      "## Cells_Cultured\n",
      "483 people\n",
      "22050 genes\n",
      "\n",
      "#############################\n",
      "## Cells_EBV\n",
      "147 people\n",
      "22759 genes\n",
      "\n",
      "#############################\n",
      "## Colon_Sigmoid\n",
      "318 people\n",
      "24483 genes\n",
      "\n",
      "#############################\n",
      "## Colon_Transverse\n",
      "368 people\n",
      "25379 genes\n",
      "\n",
      "#############################\n",
      "## Esophagus_Gastro\n",
      "330 people\n",
      "24168 genes\n",
      "\n",
      "#############################\n",
      "## Esophagus_Mucosa\n",
      "497 people\n",
      "23949 genes\n",
      "\n",
      "#############################\n",
      "## Esophagus_Muscularis\n",
      "465 people\n",
      "23871 genes\n",
      "\n",
      "#############################\n",
      "## Heart_Atrial\n",
      "372 people\n",
      "23194 genes\n",
      "\n",
      "#############################\n",
      "## Heart_L_Vent\n",
      "386 people\n",
      "21353 genes\n",
      "\n",
      "#############################\n",
      "## Kidney_Cortex\n",
      "73 people\n",
      "24807 genes\n",
      "\n",
      "#############################\n",
      "## Liver\n",
      "208 people\n",
      "22262 genes\n",
      "\n",
      "#############################\n",
      "## Lung\n",
      "515 people\n",
      "26095 genes\n",
      "\n",
      "#############################\n",
      "## Minor_Salivary\n",
      "144 people\n",
      "25579 genes\n",
      "\n",
      "#############################\n",
      "## Muscle_Skeletal\n",
      "706 people\n",
      "21031 genes\n",
      "\n",
      "#############################\n",
      "## Nerve_Tibial\n",
      "532 people\n",
      "25873 genes\n",
      "\n",
      "#############################\n",
      "## Ovary\n",
      "167 people\n",
      "25325 genes\n",
      "\n",
      "#############################\n",
      "## Pancreas\n",
      "305 people\n",
      "22615 genes\n",
      "\n",
      "#############################\n",
      "## Pituitary\n",
      "237 people\n",
      "26854 genes\n",
      "\n",
      "#############################\n",
      "## Prostate\n",
      "221 people\n",
      "26529 genes\n",
      "\n",
      "#############################\n",
      "## Skin_Not_Sun_Epsd\n",
      "517 people\n",
      "25279 genes\n",
      "\n",
      "#############################\n",
      "## Skin_Sun_Epsd\n",
      "605 people\n",
      "25196 genes\n",
      "\n",
      "#############################\n",
      "## Small_Intestine\n",
      "174 people\n",
      "26182 genes\n",
      "\n",
      "#############################\n",
      "## Spleen\n",
      "227 people\n",
      "25479 genes\n",
      "\n",
      "#############################\n",
      "## Stomach\n",
      "324 people\n",
      "24290 genes\n",
      "\n",
      "#############################\n",
      "## Testis\n",
      "322 people\n",
      "35007 genes\n",
      "\n",
      "#############################\n",
      "## Thyroid\n",
      "574 people\n",
      "26054 genes\n",
      "\n",
      "#############################\n",
      "## Uterus\n",
      "129 people\n",
      "25188 genes\n",
      "\n",
      "#############################\n",
      "## Vagina\n",
      "141 people\n",
      "25778 genes\n",
      "\n",
      "#############################\n",
      "## Whole_Blood\n",
      "670 people\n",
      "20315 genes\n"
     ]
    }
   ],
   "source": [
    "genes = []\n",
    "people = []\n",
    "\n",
    "for f in sorted(files.items()):\n",
    "    print(\"\\n#############################\")\n",
    "    print(\"## \" + f[0])\n",
    "    t = pd.read_csv(f[1], sep=\"\\t\").drop(columns=[\"#chr\", \"start\", \"end\"]).set_index(\"gene_id\")\n",
    "    people.extend(t.columns.values)\n",
    "    print(str(len(t.columns.values)) + \" people\")\n",
    "    t = t.transpose()\n",
    "    genes.extend(t.columns.values)\n",
    "    print(str(len(t.columns.values)) + \" genes\")"
   ]
  },
  {
   "cell_type": "markdown",
   "metadata": {},
   "source": [
    "# Unique people and genes"
   ]
  },
  {
   "cell_type": "code",
   "execution_count": 28,
   "metadata": {},
   "outputs": [],
   "source": [
    "unique_people, counts_people = np.unique(people, return_counts=True)\n",
    "unique_genes,   counts_genes = np.unique(genes, return_counts=True)"
   ]
  },
  {
   "cell_type": "code",
   "execution_count": 30,
   "metadata": {
    "scrolled": true
   },
   "outputs": [
    {
     "name": "stdout",
     "output_type": "stream",
     "text": [
      "Number of unique people across all tissues:\t838\n",
      "Number of unique genes across all tissues:\t39832\n"
     ]
    }
   ],
   "source": [
    "print(\"Number of unique people across all tissues:\\t\" + str(len(unique_people)))\n",
    "print(\"Number of unique genes across all tissues:\\t\" + str(len(unique_genes)))"
   ]
  },
  {
   "cell_type": "markdown",
   "metadata": {},
   "source": [
    "# Representation of people/genes across number of tissues"
   ]
  },
  {
   "cell_type": "code",
   "execution_count": 37,
   "metadata": {},
   "outputs": [
    {
     "name": "stdout",
     "output_type": "stream",
     "text": [
      "Maximum number of tissues collected from a person: 39\n"
     ]
    }
   ],
   "source": [
    "# There is no single person with samples from all the tissues\n",
    "print(\"Maximum number of tissues collected from a person: \" + str(np.max(counts_people)))"
   ]
  },
  {
   "cell_type": "code",
   "execution_count": 49,
   "metadata": {},
   "outputs": [
    {
     "name": "stdout",
     "output_type": "stream",
     "text": [
      "People with sample from only 1 tissue: 4\n",
      "People with samples from 39 tissues: 1\n"
     ]
    },
    {
     "data": {
      "text/plain": [
       "Text(0,0.5,'Number of people with a certain number of tissues collected')"
      ]
     },
     "execution_count": 49,
     "metadata": {},
     "output_type": "execute_result"
    },
    {
     "data": {
      "image/png": "[encoded data removed]",
      "text/plain": [
       "<matplotlib.figure.Figure at 0x7fc4cfb78fd0>"
      ]
     },
     "metadata": {},
     "output_type": "display_data"
    }
   ],
   "source": [
    "blocks = []\n",
    "for i in range(1,40):\n",
    "    blocks.append(len(np.where(counts_people == i)[0]))\n",
    "\n",
    "print(\"People with sample from only 1 tissue: \" + str(len(np.where(counts_people == 1)[0])))\n",
    "print(\"People with samples from 39 tissues: \" + str(len(np.where(counts_people == 39)[0])))\n",
    "\n",
    "plt.figure(figsize=(10,7))\n",
    "plt.bar(range(1,40), blocks)\n",
    "plt.xlabel(\"Number of tissues collected from a person\")\n",
    "plt.ylabel(\"Number of people with a certain number of tissues collected\")"
   ]
  },
  {
   "cell_type": "code",
   "execution_count": 54,
   "metadata": {
    "scrolled": true
   },
   "outputs": [
    {
     "name": "stdout",
     "output_type": "stream",
     "text": [
      "Genes present in only 1 tissue: 5368\n",
      "Genes present in all 49 tissues: 15636\n"
     ]
    },
    {
     "data": {
      "text/plain": [
       "Text(0,0.5,'Number of genes present in a certain number of tissues')"
      ]
     },
     "execution_count": 54,
     "metadata": {},
     "output_type": "execute_result"
    },
    {
     "data": {
      "image/png": "[encoded data removed]",
      "text/plain": [
       "<matplotlib.figure.Figure at 0x7fc4e3b57d30>"
      ]
     },
     "metadata": {},
     "output_type": "display_data"
    }
   ],
   "source": [
    "blocks = []\n",
    "for i in range(1,50):\n",
    "    blocks.append(len(np.where(counts_genes == i)[0]))\n",
    "\n",
    "print(\"Genes present in only 1 tissue: \" + str(len(np.where(counts_genes == 1)[0])))\n",
    "print(\"Genes present in all 49 tissues: \" + str(len(np.where(counts_genes == 49)[0])))\n",
    "\n",
    "plt.figure(figsize=(10,7))\n",
    "plt.bar(range(1,50), blocks)\n",
    "plt.xlabel(\"Number of tissues a gene is present\")\n",
    "plt.ylabel(\"Number of genes present in a certain number of tissues\")"
   ]
  },
  {
   "cell_type": "code",
   "execution_count": null,
   "metadata": {},
   "outputs": [],
   "source": []
  },
  {
   "cell_type": "markdown",
   "metadata": {},
   "source": [
    "# General View now only with protein-encoding genes\n",
    "## General number of people and genes in each tissue"
   ]
  },
  {
   "cell_type": "code",
   "execution_count": 2,
   "metadata": {
    "scrolled": true
   },
   "outputs": [
    {
     "name": "stdout",
     "output_type": "stream",
     "text": [
      "\n",
      "#############################\n",
      "## Adipose_Subcutaneous\n",
      "Change: 24665 --> 16273\n",
      "\n",
      "#############################\n",
      "## Adipose_Visceral_Omentum\n",
      "Change: 24724 --> 16346\n",
      "\n",
      "#############################\n",
      "## Adrenal_Gland\n",
      "Change: 23820 --> 16080\n",
      "\n",
      "#############################\n",
      "## Artery_Aorta\n",
      "Change: 23959 --> 16104\n",
      "\n",
      "#############################\n",
      "## Artery_Coronary\n",
      "Change: 24529 --> 16325\n",
      "\n",
      "#############################\n",
      "## Artery_Tibial\n",
      "Change: 23304 --> 15919\n",
      "\n",
      "#############################\n",
      "## Brain_Amygdala\n",
      "Change: 24069 --> 16414\n",
      "\n",
      "#############################\n",
      "## Brain_Anterior_cingulate\n",
      "Change: 24342 --> 16409\n",
      "\n",
      "#############################\n",
      "## Brain_Caudate\n",
      "Change: 24718 --> 16474\n",
      "\n",
      "#############################\n",
      "## Brain_Cerebellar\n",
      "Change: 25144 --> 16346\n",
      "\n",
      "#############################\n",
      "## Brain_Cerebellum\n",
      "Change: 25461 --> 16463\n",
      "\n",
      "#############################\n",
      "## Brain_Cortex\n",
      "Change: 24849 --> 16536\n",
      "\n",
      "#############################\n",
      "## Brain_Frontal_Cortex\n",
      "Change: 24676 --> 16492\n",
      "\n",
      "#############################\n",
      "## Brain_Hippocampus\n",
      "Change: 24420 --> 16505\n",
      "\n",
      "#############################\n",
      "## Brain_Hypothalamus\n",
      "Change: 25096 --> 16725\n",
      "\n",
      "#############################\n",
      "## Brain_Nucleus\n",
      "Change: 24890 --> 16470\n",
      "\n",
      "#############################\n",
      "## Brain_Putamen\n",
      "Change: 23804 --> 16248\n",
      "\n",
      "#############################\n",
      "## Brain_Spinal_cord\n",
      "Change: 24669 --> 16608\n",
      "\n",
      "#############################\n",
      "## Brain_Substantia_nigra\n",
      "Change: 24044 --> 16413\n",
      "\n",
      "#############################\n",
      "## Breast_Mammary_Tissue\n",
      "Change: 25849 --> 16668\n",
      "\n",
      "#############################\n",
      "## Cells_Cultured\n",
      "Change: 22050 --> 15085\n",
      "\n",
      "#############################\n",
      "## Cells_EBV\n",
      "Change: 22759 --> 14984\n",
      "\n",
      "#############################\n",
      "## Colon_Sigmoid\n",
      "Change: 24483 --> 16463\n",
      "\n",
      "#############################\n",
      "## Colon_Transverse\n",
      "Change: 25379 --> 16671\n",
      "\n",
      "#############################\n",
      "## Esophagus_Gastro\n",
      "Change: 24168 --> 16250\n",
      "\n",
      "#############################\n",
      "## Esophagus_Mucosa\n",
      "Change: 23949 --> 16224\n",
      "\n",
      "#############################\n",
      "## Esophagus_Muscularis\n",
      "Change: 23871 --> 16169\n",
      "\n",
      "#############################\n",
      "## Heart_Atrial\n",
      "Change: 23194 --> 15865\n",
      "\n",
      "#############################\n",
      "## Heart_L_Vent\n",
      "Change: 21353 --> 15190\n",
      "\n",
      "#############################\n",
      "## Kidney_Cortex\n",
      "Change: 24807 --> 16450\n",
      "\n",
      "#############################\n",
      "## Liver\n",
      "Change: 22262 --> 15582\n",
      "\n",
      "#############################\n",
      "## Lung\n",
      "Change: 26095 --> 16765\n",
      "\n",
      "#############################\n",
      "## Minor_Salivary\n",
      "Change: 25579 --> 16631\n",
      "\n",
      "#############################\n",
      "## Muscle_Skeletal\n",
      "Change: 21031 --> 15163\n",
      "\n",
      "#############################\n",
      "## Nerve_Tibial\n",
      "Change: 25873 --> 16544\n",
      "\n",
      "#############################\n",
      "## Ovary\n",
      "Change: 25325 --> 16382\n",
      "\n",
      "#############################\n",
      "## Pancreas\n",
      "Change: 22615 --> 15848\n",
      "\n",
      "#############################\n",
      "## Pituitary\n",
      "Change: 26854 --> 17036\n",
      "\n",
      "#############################\n",
      "## Prostate\n",
      "Change: 26529 --> 16915\n",
      "\n",
      "#############################\n",
      "## Skin_Not_Sun_Epsd\n",
      "Change: 25279 --> 16668\n",
      "\n",
      "#############################\n",
      "## Skin_Sun_Epsd\n",
      "Change: 25196 --> 16646\n",
      "\n",
      "#############################\n",
      "## Small_Intestine\n",
      "Change: 26182 --> 16838\n",
      "\n",
      "#############################\n",
      "## Spleen\n",
      "Change: 25479 --> 16318\n",
      "\n",
      "#############################\n",
      "## Stomach\n",
      "Change: 24290 --> 16485\n",
      "\n",
      "#############################\n",
      "## Testis\n",
      "Change: 35007 --> 18376\n",
      "\n",
      "#############################\n",
      "## Thyroid\n",
      "Change: 26054 --> 16607\n",
      "\n",
      "#############################\n",
      "## Uterus\n",
      "Change: 25188 --> 16407\n",
      "\n",
      "#############################\n",
      "## Vagina\n",
      "Change: 25778 --> 16683\n",
      "\n",
      "#############################\n",
      "## Whole_Blood\n",
      "Change: 20315 --> 14582\n"
     ]
    }
   ],
   "source": [
    "genes = []\n",
    "\n",
    "for f in sorted(files.items()):\n",
    "    print(\"\\n#############################\")\n",
    "    print(\"## \" + f[0])\n",
    "    t = pd.read_csv(f[1], sep=\"\\t\").drop(columns=[\"#chr\", \"start\", \"end\"]).set_index(\"gene_id\")\n",
    "    t = t.transpose()\n",
    "    \n",
    "    filtered_df = pd.read_pickle(\"data_filtered/\" + f[0] + \".pkl\")\n",
    "    genes.extend(filtered_df.columns.values)\n",
    "    \n",
    "    print(\"Change: \" + str(len(t.columns.values)) + \" --> \" + str(len(filtered_df.columns.values)))"
   ]
  },
  {
   "cell_type": "markdown",
   "metadata": {},
   "source": [
    "# Unique genes"
   ]
  },
  {
   "cell_type": "code",
   "execution_count": 3,
   "metadata": {},
   "outputs": [],
   "source": [
    "unique_genes, counts_genes = np.unique(genes, return_counts=True)"
   ]
  },
  {
   "cell_type": "code",
   "execution_count": 4,
   "metadata": {
    "scrolled": true
   },
   "outputs": [
    {
     "name": "stdout",
     "output_type": "stream",
     "text": [
      "Number of unique genes across all tissues:\t18767\n"
     ]
    }
   ],
   "source": [
    "print(\"Number of unique genes across all tissues:\\t\" + str(len(unique_genes)))"
   ]
  },
  {
   "cell_type": "markdown",
   "metadata": {},
   "source": [
    "# Representation of genes across number of tissues"
   ]
  },
  {
   "cell_type": "code",
   "execution_count": 5,
   "metadata": {},
   "outputs": [
    {
     "name": "stdout",
     "output_type": "stream",
     "text": [
      "Genes present in only 1 tissue: 467\n",
      "Genes present in all 49 tissues: 12708\n"
     ]
    },
    {
     "data": {
      "text/plain": [
       "Text(0,0.5,'Number of genes present in a certain number of tissues')"
      ]
     },
     "execution_count": 5,
     "metadata": {},
     "output_type": "execute_result"
    },
    {
     "data": {
      "image/png": "[encoded data removed]",
      "text/plain": [
       "<matplotlib.figure.Figure at 0x7f5b67695898>"
      ]
     },
     "metadata": {},
     "output_type": "display_data"
    }
   ],
   "source": [
    "blocks = []\n",
    "for i in range(1,50):\n",
    "    blocks.append(len(np.where(counts_genes == i)[0]))\n",
    "\n",
    "print(\"Genes present in only 1 tissue: \" + str(len(np.where(counts_genes == 1)[0])))\n",
    "print(\"Genes present in all 49 tissues: \" + str(len(np.where(counts_genes == 49)[0])))\n",
    "\n",
    "plt.figure(figsize=(10,7))\n",
    "plt.bar(range(1,50), blocks)\n",
    "plt.xlabel(\"Number of tissues a gene is present\")\n",
    "plt.ylabel(\"Number of genes present in a certain number of tissues\")"
   ]
  },
  {
   "cell_type": "code",
   "execution_count": null,
   "metadata": {},
   "outputs": [],
   "source": []
  },
  {
   "cell_type": "markdown",
   "metadata": {},
   "source": [
    "# General View after conversion to gene IDs\n",
    "\n",
    "## Number of genes not translated"
   ]
  },
  {
   "cell_type": "code",
   "execution_count": 12,
   "metadata": {},
   "outputs": [
    {
     "name": "stdout",
     "output_type": "stream",
     "text": [
      "### - Adipose_Subcutaneous\n",
      "Columns without translation: 235\n",
      "\n",
      "### - Adipose_Visceral_Omentum\n",
      "Columns without translation: 245\n",
      "\n",
      "### - Adrenal_Gland\n",
      "Columns without translation: 237\n",
      "\n",
      "### - Artery_Aorta\n",
      "Columns without translation: 229\n",
      "\n",
      "### - Artery_Coronary\n",
      "Columns without translation: 241\n",
      "\n",
      "### - Artery_Tibial\n",
      "Columns without translation: 225\n",
      "\n",
      "### - Brain_Amygdala\n",
      "Columns without translation: 242\n",
      "\n",
      "### - Brain_Anterior_cingulate\n",
      "Columns without translation: 242\n",
      "\n",
      "### - Brain_Caudate\n",
      "Columns without translation: 247\n",
      "\n",
      "### - Brain_Cerebellar\n",
      "Columns without translation: 258\n",
      "\n",
      "### - Brain_Cerebellum\n",
      "Columns without translation: 259\n",
      "\n",
      "### - Brain_Cortex\n",
      "Columns without translation: 246\n",
      "\n",
      "### - Brain_Frontal_Cortex\n",
      "Columns without translation: 247\n",
      "\n",
      "### - Brain_Hippocampus\n",
      "Columns without translation: 245\n",
      "\n",
      "### - Brain_Hypothalamus\n",
      "Columns without translation: 253\n",
      "\n",
      "### - Brain_Nucleus\n",
      "Columns without translation: 252\n",
      "\n",
      "### - Brain_Putamen\n",
      "Columns without translation: 238\n",
      "\n",
      "### - Brain_Spinal_cord\n",
      "Columns without translation: 251\n",
      "\n",
      "### - Brain_Substantia_nigra\n",
      "Columns without translation: 243\n",
      "\n",
      "### - Breast_Mammary_Tissue\n",
      "Columns without translation: 253\n",
      "\n",
      "### - Cells_Cultured\n",
      "Columns without translation: 208\n",
      "\n",
      "### - Cells_EBV\n",
      "Columns without translation: 230\n",
      "\n",
      "### - Colon_Sigmoid\n",
      "Columns without translation: 246\n",
      "\n",
      "### - Colon_Transverse\n",
      "Columns without translation: 252\n",
      "\n",
      "### - Esophagus_Gastro\n",
      "Columns without translation: 240\n",
      "\n",
      "### - Esophagus_Mucosa\n",
      "Columns without translation: 242\n",
      "\n",
      "### - Esophagus_Muscularis\n",
      "Columns without translation: 238\n",
      "\n",
      "### - Heart_Atrial\n",
      "Columns without translation: 225\n",
      "\n",
      "### - Heart_L_Vent\n",
      "Columns without translation: 209\n",
      "\n",
      "### - Kidney_Cortex\n",
      "Columns without translation: 246\n",
      "\n",
      "### - Liver\n",
      "Columns without translation: 228\n",
      "\n",
      "### - Lung\n",
      "Columns without translation: 262\n",
      "\n",
      "### - Minor_Salivary\n",
      "Columns without translation: 245\n",
      "\n",
      "### - Muscle_Skeletal\n",
      "Columns without translation: 206\n",
      "\n",
      "### - Nerve_Tibial\n",
      "Columns without translation: 248\n",
      "\n",
      "### - Ovary\n",
      "Columns without translation: 246\n",
      "\n",
      "### - Pancreas\n",
      "Columns without translation: 228\n",
      "\n",
      "### - Pituitary\n",
      "Columns without translation: 273\n",
      "\n",
      "### - Prostate\n",
      "Columns without translation: 271\n",
      "\n",
      "### - Skin_Not_Sun_Epsd\n",
      "Columns without translation: 253\n",
      "\n",
      "### - Skin_Sun_Epsd\n",
      "Columns without translation: 249\n",
      "\n",
      "### - Small_Intestine\n",
      "Columns without translation: 261\n",
      "\n",
      "### - Spleen\n",
      "Columns without translation: 268\n",
      "\n",
      "### - Stomach\n",
      "Columns without translation: 245\n",
      "\n",
      "### - Testis\n",
      "Columns without translation: 373\n",
      "\n",
      "### - Thyroid\n",
      "Columns without translation: 254\n",
      "\n",
      "### - Uterus\n",
      "Columns without translation: 244\n",
      "\n",
      "### - Vagina\n",
      "Columns without translation: 263\n",
      "\n",
      "### - Whole_Blood\n",
      "Columns without translation: 226\n",
      "\n"
     ]
    }
   ],
   "source": [
    "for f in sorted(files.items()):\n",
    "    print(\"### - \" + f[0])\n",
    "    tmp = pd.read_pickle(\"data_filtered/geneids_\"+f[0]+\".pkl\")\n",
    "    tmp2 = tmp.filter(like=\"ENSG\", axis=1)\n",
    "    print(\"Columns without translation: \" + str(len(tmp2.columns.values)))\n",
    "    print()"
   ]
  },
  {
   "cell_type": "code",
   "execution_count": 6,
   "metadata": {},
   "outputs": [
    {
     "name": "stdout",
     "output_type": "stream",
     "text": [
      "Number of unique genes across all tissues:\t18765\n"
     ]
    }
   ],
   "source": [
    "genes = []\n",
    "\n",
    "for f in sorted(files.items()):    \n",
    "    filtered_df = pd.read_pickle(\"data_filtered/geneids_\" + f[0] + \".pkl\")\n",
    "    genes.extend(filtered_df.columns.values)\n",
    "    \n",
    "unique_genes, counts_genes = np.unique(genes, return_counts=True)\n",
    "print(\"Number of unique genes across all tissues:\\t\" + str(len(unique_genes)))"
   ]
  },
  {
   "cell_type": "code",
   "execution_count": 7,
   "metadata": {},
   "outputs": [
    {
     "name": "stdout",
     "output_type": "stream",
     "text": [
      "Genes present in only 1 tissue: 467\n",
      "Genes present in all 49 tissues: 12706\n"
     ]
    },
    {
     "data": {
      "text/plain": [
       "Text(0,0.5,'Number of genes present in a certain number of tissues')"
      ]
     },
     "execution_count": 7,
     "metadata": {},
     "output_type": "execute_result"
    },
    {
     "data": {
      "image/png": "[encoded data removed]",
      "text/plain": [
       "<matplotlib.figure.Figure at 0x7f5b66b193c8>"
      ]
     },
     "metadata": {},
     "output_type": "display_data"
    }
   ],
   "source": [
    "blocks = []\n",
    "for i in range(1,50):\n",
    "    blocks.append(len(np.where(counts_genes == i)[0]))\n",
    "\n",
    "print(\"Genes present in only 1 tissue: \" + str(len(np.where(counts_genes == 1)[0])))\n",
    "print(\"Genes present in all 49 tissues: \" + str(len(np.where(counts_genes == 49)[0])))\n",
    "\n",
    "plt.figure(figsize=(10,7))\n",
    "plt.bar(range(1,50), blocks)\n",
    "plt.xlabel(\"Number of tissues a gene is present\")\n",
    "plt.ylabel(\"Number of genes present in a certain number of tissues\")"
   ]
  },
  {
   "cell_type": "markdown",
   "metadata": {},
   "source": [
    "# Final statistics without genes unmatched"
   ]
  },
  {
   "cell_type": "code",
   "execution_count": 3,
   "metadata": {},
   "outputs": [
    {
     "name": "stdout",
     "output_type": "stream",
     "text": [
      "Number of unique genes across all tissues:\t18364\n"
     ]
    }
   ],
   "source": [
    "genes = []\n",
    "\n",
    "for f in sorted(files.items()):    \n",
    "    filtered_df = pd.read_pickle(\"data_filtered/only_geneids_\" + f[0] + \".pkl\")\n",
    "    genes.extend(filtered_df.columns.values)\n",
    "    \n",
    "unique_genes, counts_genes = np.unique(genes, return_counts=True)\n",
    "print(\"Number of unique genes across all tissues:\\t\" + str(len(unique_genes)))"
   ]
  },
  {
   "cell_type": "code",
   "execution_count": 4,
   "metadata": {},
   "outputs": [
    {
     "name": "stdout",
     "output_type": "stream",
     "text": [
      "Genes present in only 1 tissue: 412\n",
      "Genes present in all 49 tissues: 12557\n"
     ]
    },
    {
     "data": {
      "text/plain": [
       "Text(0,0.5,'Number of genes present in a certain number of tissues')"
      ]
     },
     "execution_count": 4,
     "metadata": {},
     "output_type": "execute_result"
    },
    {
     "data": {
      "image/png": "[encoded data removed]",
      "text/plain": [
       "<matplotlib.figure.Figure at 0x7ff1fd7a0a58>"
      ]
     },
     "metadata": {},
     "output_type": "display_data"
    }
   ],
   "source": [
    "blocks = []\n",
    "for i in range(1,50):\n",
    "    blocks.append(len(np.where(counts_genes == i)[0]))\n",
    "\n",
    "print(\"Genes present in only 1 tissue: \" + str(len(np.where(counts_genes == 1)[0])))\n",
    "print(\"Genes present in all 49 tissues: \" + str(len(np.where(counts_genes == 49)[0])))\n",
    "\n",
    "plt.figure(figsize=(10,7))\n",
    "plt.bar(range(1,50), blocks)\n",
    "plt.xlabel(\"Number of tissues a gene is present\")\n",
    "plt.ylabel(\"Number of genes present in a certain number of tissues\")"
   ]
  },
  {
   "cell_type": "code",
   "execution_count": null,
   "metadata": {},
   "outputs": [],
   "source": []
  }
 ],
 "metadata": {
  "kernelspec": {
   "display_name": "Python 3",
   "language": "python",
   "name": "python3"
  },
  "language_info": {
   "codemirror_mode": {
    "name": "ipython",
    "version": 3
   },
   "file_extension": ".py",
   "mimetype": "text/x-python",
   "name": "python",
   "nbconvert_exporter": "python",
   "pygments_lexer": "ipython3",
   "version": "3.7.5"
  }
 },
 "nbformat": 4,
 "nbformat_minor": 4
}
