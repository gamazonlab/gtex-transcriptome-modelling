{
 "cells": [
  {
   "cell_type": "markdown",
   "metadata": {},
   "source": [
    "# Generating the files needed for Track Hub\n",
    "\n",
    "Here, you will find code and explanations on how we generated the needed files for [Track Hub](http://genome.ucsc.edu/cgi-bin/hgHubConnect).\n",
    "\n",
    "All resulting files and folders are inside `track_hub/`, which contain the following elements:\n",
    "\n",
    " - `communities/`: Contains all the files that will be generated following the code in this notebook.\n",
    " - `bedToBigBed`: Program to convert .bed to bigBed format as explained here: https://genome.ucsc.edu/goldenPath/help/bigBed.html\n",
    " - `genomes.txt` / `hub.txt`: Files needed for Tracking Hub\n",
    " - `hg19.chrom.size`: File needed to execute this notebook, downloaded from https://genome.ucsc.edu/goldenPath/help/bigBed.html\n",
    " - `process_beds.sh`: Script that will convert all .bed files to bigBed format, deleting all .bed files. In practice, it executes Example \\#2 from this link: https://genome.ucsc.edu/goldenPath/help/bigBed.html\n",
    "\n",
    "\n",
    "Link provided to Track Hub: https://raw.githubusercontent.com/tjiagoM/gtex-transcriptome-modelling/master/track_hub/hub.txt"
   ]
  },
  {
   "cell_type": "code",
   "execution_count": 1,
   "metadata": {},
   "outputs": [],
   "source": [
    "import pickle\n",
    "import numpy as np"
   ]
  },
  {
   "cell_type": "code",
   "execution_count": 2,
   "metadata": {},
   "outputs": [],
   "source": [
    "TISSUES = ['Adipose_Subcutaneous', 'Adipose_Visceral_Omentum', 'Adrenal_Gland', 'Artery_Aorta', 'Artery_Coronary',\n",
    "           'Artery_Tibial', 'Brain_Amygdala', 'Brain_Anterior_cingulate', 'Brain_Caudate', 'Brain_Cerebellar',\n",
    "           'Brain_Cerebellum', 'Brain_Cortex', 'Brain_Frontal_Cortex', 'Brain_Hippocampus', 'Brain_Hypothalamus',\n",
    "           'Brain_Nucleus', 'Brain_Putamen', 'Brain_Spinal_cord', 'Brain_Substantia_nigra', 'Breast_Mammary_Tissue',\n",
    "           'Cells_Cultured', 'Cells_EBV', 'Colon_Sigmoid', 'Colon_Transverse', 'Esophagus_Gastro', 'Esophagus_Mucosa',\n",
    "           'Esophagus_Muscularis', 'Heart_Atrial', 'Heart_L_Vent', 'Kidney_Cortex', 'Liver', 'Lung', 'Minor_Salivary',\n",
    "           'Muscle_Skeletal', 'Nerve_Tibial', 'Ovary', 'Pancreas', 'Pituitary', 'Prostate', 'Skin_Not_Sun_Epsd',\n",
    "           'Skin_Sun_Epsd', 'Small_Intestine', 'Spleen', 'Stomach', 'Testis', 'Thyroid', 'Uterus', 'Vagina',\n",
    "           'Whole_Blood']"
   ]
  },
  {
   "cell_type": "code",
   "execution_count": 3,
   "metadata": {},
   "outputs": [],
   "source": [
    "# Saving the chromosome's limits, based on the file `hg19.chrom.sizes` downloaded from https://genome.ucsc.edu/goldenPath/help/bigBed.html\n",
    "\n",
    "chr_limits = dict()\n",
    "with open('track_hub/hg19.chrom.sizes', 'r') as reader:\n",
    "    lines = reader.readlines()\n",
    "    for line in lines:\n",
    "        line_info = line.split('\\t')\n",
    "        chr_limits[line_info[0]] = int(line_info[1].strip())"
   ]
  },
  {
   "cell_type": "code",
   "execution_count": 4,
   "metadata": {},
   "outputs": [],
   "source": [
    "# Saving start and end coordinates on all the known genes in gencode.v26.GRCh38.genes.gtf\n",
    "dic_all_genes_info = dict()\n",
    "\n",
    "with open('meta_data/gencode.v26.GRCh38.genes.gtf', 'r') as reader:\n",
    "    lines = reader.readlines()\n",
    "    for i, line in enumerate(lines):\n",
    "        if i < 6: # before is just an header\n",
    "            continue\n",
    "        line_array = line.split('\\t')\n",
    "        chromosome = line_array[0]\n",
    "        chr_start = int(line_array[3])\n",
    "        chr_end = int(line_array[4])\n",
    "        remain_info = line_array[8]\n",
    "        gene_name = remain_info.split(';')[3].split(' ')[2][1:-1]\n",
    "        \n",
    "        # If the coordinates are over the known limits, set those coordinates to the known limits.\n",
    "        if chr_end > chr_limits[chromosome]:\n",
    "            chr_end = chr_limits[chromosome]\n",
    "            if chr_start > chr_end:\n",
    "                chr_start = chr_end\n",
    "        \n",
    "        dic_all_genes_info[gene_name] = {'chr': chromosome,\n",
    "                                        'chr_start': chr_start,\n",
    "                                        'chr_end': chr_end}"
   ]
  },
  {
   "cell_type": "markdown",
   "metadata": {},
   "source": [
    "The following cell will generate all the needed `.bed` files (one for each community), as well as the `trackDb.txt` file needed for tracking Hub."
   ]
  },
  {
   "cell_type": "code",
   "execution_count": 5,
   "metadata": {},
   "outputs": [],
   "source": [
    "with open('track_hub/communities/trackDb.txt', 'w') as f_track_hubs:\n",
    "    for tissue in TISSUES:\n",
    "        try:\n",
    "            for community_id in range(1, 999999):\n",
    "                arr_com = []\n",
    "                dic_community = pickle.load(open(\"svm_results/\" + tissue + '_' + str(community_id) + \".pkl\", \"rb\"))\n",
    "                len_common = len(dic_community['genes'])\n",
    "\n",
    "                with open(f'track_hub/communities/{tissue}_{community_id}.bed', 'w') as f:\n",
    "                    for gene in dic_community['genes']:\n",
    "                        if gene in dic_all_genes_info.keys():\n",
    "                            gene_info = dic_all_genes_info[gene]\n",
    "                            f.write(f'{gene_info[\"chr\"]}\\t{gene_info[\"chr_start\"]}\\t{gene_info[\"chr_end\"]}\\n')\n",
    "                \n",
    "                f_track_hubs.write(f'track {tissue}_{community_id}\\n')\n",
    "                f_track_hubs.write(f'bigDataUrl https://raw.githubusercontent.com/tjiagoM/gtex-transcriptome-modelling/master/track_hub/communities/{tissue}_{community_id}.bb\\n')\n",
    "                f_track_hubs.write(f'shortLabel {tissue}_{community_id}\\n')\n",
    "                f_track_hubs.write(f'longLabel {tissue}_{community_id}\\n')\n",
    "                f_track_hubs.write(f'type bigBed\\n')\n",
    "                f_track_hubs.write(f'\\n')\n",
    "\n",
    "        except Exception as e:\n",
    "            pass"
   ]
  },
  {
   "cell_type": "markdown",
   "metadata": {},
   "source": [
    "After all the cells from this notebook are executed, the next step is to execute the script `process_beds.sh` **inside the track_hub/ folder**  for final conversion needed for Tracking Hub."
   ]
  }
 ],
 "metadata": {
  "kernelspec": {
   "display_name": "Python 3",
   "language": "python",
   "name": "python3"
  },
  "language_info": {
   "codemirror_mode": {
    "name": "ipython",
    "version": 3
   },
   "file_extension": ".py",
   "mimetype": "text/x-python",
   "name": "python",
   "nbconvert_exporter": "python",
   "pygments_lexer": "ipython3",
   "version": "3.7.5"
  }
 },
 "nbformat": 4,
 "nbformat_minor": 4
}
